{
 "cells": [
  {
   "cell_type": "code",
   "execution_count": 1,
   "metadata": {},
   "outputs": [
    {
     "name": "stderr",
     "output_type": "stream",
     "text": [
      "Using TensorFlow backend.\n"
     ]
    }
   ],
   "source": [
    "##\n",
    "## Udacity PRORJECT - Behaviour Cloning \n",
    "##\n",
    "\n",
    "import csv \n",
    "import cv2\n",
    "import numpy as np\n",
    "from keras.layers import Dense, Dropout, Activation, Flatten, Convolution2D, Input, Lambda, SpatialDropout2D,MaxPooling2D\n",
    "from keras.layers import Cropping2D\n",
    "import sklearn\n",
    "from sklearn.utils import shuffle\n",
    "import matplotlib.pyplot as plt\n",
    "from keras.regularizers import l2\n",
    "\n"
   ]
  },
  {
   "cell_type": "code",
   "execution_count": 2,
   "metadata": {},
   "outputs": [
    {
     "name": "stdout",
     "output_type": "stream",
     "text": [
      "Img_path and measurements : (9021,) (9021,)\n"
     ]
    }
   ],
   "source": [
    "##\n",
    "##  Read the data from driving_log generated using the simulator in training mode\n",
    "## \n",
    "lines = []\n",
    "with open(\"training_data/driving_log.csv\") as csvfile:\n",
    "    reader = csv.reader(csvfile)\n",
    "    for line in reader:\n",
    "        lines.append(line)\n",
    "        \n",
    "#\n",
    "#  Reading the img_paths (center,left,right img path and taking sterring angle correction for left, right into account)\n",
    "#\n",
    "img_paths = []\n",
    "measurements =[]\n",
    "for line in lines:\n",
    "    ## Read Center,left,right images (More the data better the training)\n",
    "    steering_center = float(line[3])\n",
    "\n",
    "    # create adjusted steering measurements for the side camera images\n",
    "    correction = 0.20 # Tuned it after multiple iteration {Ideally it can be calculated mathematically}\n",
    "    steering_left = steering_center + correction\n",
    "    steering_right = steering_center - correction\n",
    "\n",
    "    # read in images from center, left and right cameras\n",
    "    # directory = \"...\" # fill in the path to your training IMG directory\n",
    "    img_center = line[0]\n",
    "    img_left = line[1]\n",
    "    img_right = line[2]\n",
    "\n",
    "    # add images \n",
    "    img_paths.append(img_center)\n",
    "    img_paths.append(img_left)\n",
    "    img_paths.append(img_right)\n",
    "    \n",
    "    # add measuremnts \n",
    "    measurements.append(steering_center)\n",
    "    measurements.append(steering_left)\n",
    "    measurements.append(steering_right)\n",
    "    \n",
    "img_paths = np.array(img_paths)\n",
    "measurements = np.array(measurements)\n",
    "\n",
    "print('Img_path and measurements :', img_paths.shape, measurements.shape)"
   ]
  },
  {
   "cell_type": "code",
   "execution_count": 3,
   "metadata": {},
   "outputs": [
    {
     "data": {
      "image/png": "[encoded data removed]",
      "text/plain": [
       "<matplotlib.figure.Figure at 0x12398f160>"
      ]
     },
     "metadata": {},
     "output_type": "display_data"
    },
    {
     "name": "stdout",
     "output_type": "stream",
     "text": [
      "Bias towards straight path\n"
     ]
    }
   ],
   "source": [
    "# Plot distribution of samples steering initial angles after prefiltering central angle samples\n",
    "plt.hist(measurements)\n",
    "plt.title(\"Steering angles Histogram\")\n",
    "plt.xlabel(\"Value\")\n",
    "plt.ylabel(\"Frequency\")\n",
    "plt.gcf()\n",
    "plt.show()\n",
    "\n",
    "print ('Bias towards straight path')"
   ]
  },
  {
   "cell_type": "code",
   "execution_count": 4,
   "metadata": {},
   "outputs": [
    {
     "name": "stdout",
     "output_type": "stream",
     "text": [
      "How much data to remove ? - 3742\n"
     ]
    }
   ],
   "source": [
    "# Calculate the index to filter the data \n",
    "# It will eliminate bias towards 0 stearing.\n",
    "\n",
    "threshold = 0.01  ## Stearing threshold\n",
    "keepPercent = 0.40 ## Keep 40% data\n",
    "remove_index = []\n",
    "\n",
    "for i in range(len(measurements)):\n",
    "    stearing = measurements[i]\n",
    "    if(abs(stearing) > 0.85):\n",
    "        remove_index.append(i)    \n",
    "    if(abs(stearing < threshold)):        \n",
    "        if np.random.random_sample() >keepPercent:\n",
    "            remove_index.append(i)\n",
    "            \n",
    "           \n",
    "\n",
    "print(\"How much data to remove ? -\", len(remove_index))"
   ]
  },
  {
   "cell_type": "code",
   "execution_count": 5,
   "metadata": {},
   "outputs": [
    {
     "name": "stdout",
     "output_type": "stream",
     "text": [
      "Img_path and measurements : (5284,) (5284,)\n"
     ]
    },
    {
     "data": {
      "image/png": "[encoded data removed]",
      "text/plain": [
       "<matplotlib.figure.Figure at 0x123b96208>"
      ]
     },
     "metadata": {},
     "output_type": "display_data"
    },
    {
     "name": "stdout",
     "output_type": "stream",
     "text": [
      "Filtered data\n"
     ]
    }
   ],
   "source": [
    "## Filter data \n",
    "\n",
    "img_paths = np.delete(img_paths, remove_index, axis=0)\n",
    "measurements = np.delete(measurements, remove_index)\n",
    "\n",
    "\n",
    "print('Img_path and measurements :', img_paths.shape, measurements.shape)\n",
    "\n",
    "plt.hist(measurements)\n",
    "plt.title(\"Steering angles Histogram\")\n",
    "plt.xlabel(\"Value\")\n",
    "plt.ylabel(\"Frequency\")\n",
    "plt.gcf()\n",
    "plt.show() \n",
    "\n",
    "print('Filtered data')"
   ]
  },
  {
   "cell_type": "code",
   "execution_count": 6,
   "metadata": {},
   "outputs": [
    {
     "name": "stdout",
     "output_type": "stream",
     "text": [
      "Number of train samples     :  4227\n",
      "Number of validation samples:  1057\n"
     ]
    }
   ],
   "source": [
    "##\n",
    "##\n",
    "from sklearn.model_selection import train_test_split\n",
    "samples = list(zip(img_paths, measurements))\n",
    "train_samples, validation_samples = train_test_split(samples, test_size=0.2)\n",
    "\n",
    "print('Number of train samples     : ', len(train_samples))\n",
    "print('Number of validation samples: ', len(validation_samples))\n",
    " \n"
   ]
  },
  {
   "cell_type": "code",
   "execution_count": 7,
   "metadata": {},
   "outputs": [
    {
     "name": "stdout",
     "output_type": "stream",
     "text": [
      "Epoch 1/5\n",
      "8454/8454 [==============================] - 241s - loss: 0.1001 - val_loss: 0.0479\n",
      "Epoch 2/5\n",
      "8454/8454 [==============================] - 238s - loss: 0.0352 - val_loss: 0.0277\n",
      "Epoch 3/5\n",
      "8454/8454 [==============================] - 238s - loss: 0.0250 - val_loss: 0.0233\n",
      "Epoch 4/5\n",
      "8454/8454 [==============================] - 238s - loss: 0.0213 - val_loss: 0.0204\n",
      "Epoch 5/5\n",
      "8454/8454 [==============================] - 238s - loss: 0.0192 - val_loss: 0.0192\n",
      "dict_keys(['loss', 'val_loss'])\n",
      "Loss\n",
      "[0.100078692942195, 0.035228453687609636, 0.024965016141371692, 0.021285134110302754, 0.019152337331822755]\n",
      "Validation Loss\n",
      "[0.047859052102748469, 0.027650641769086177, 0.023258116663686487, 0.020392979048509698, 0.01922578022743918]\n"
     ]
    },
    {
     "data": {
      "image/png": "[encoded data removed]",
      "text/plain": [
       "<matplotlib.figure.Figure at 0x127f72240>"
      ]
     },
     "metadata": {},
     "output_type": "display_data"
    }
   ],
   "source": [
    "## Regression Network\n",
    "from keras.models import Sequential\n",
    "from keras.layers import Flatten, Dense\n",
    "\n",
    "\n",
    "def generator(samples, batch_size=32):\n",
    "    num_samples = len(samples)\n",
    "    while 1: # Loop forever so the generator never terminates\n",
    "        shuffle(samples)\n",
    "        for offset in range(0, num_samples, batch_size):\n",
    "            batch_samples = samples[offset:offset+batch_size]\n",
    "\n",
    "            images = []\n",
    "            angles = []\n",
    "            for path,measurement in batch_samples:\n",
    "\n",
    "                #print(path)\n",
    "                #print(measurement)\n",
    "                \n",
    "                image = cv2.imread(path)\n",
    "                angle = float(measurement)\n",
    "                \n",
    "                images.append(image)\n",
    "                angles.append(angle)\n",
    "                \n",
    "                # Augumented Image\n",
    "                images.append(cv2.flip(image,1))\n",
    "                angles.append(angle*-1.0)\n",
    "\n",
    "\n",
    "            # trim image to only see section with road\n",
    "            X_train = np.array(images)\n",
    "            y_train = np.array(angles)\n",
    "            yield sklearn.utils.shuffle(X_train, y_train)\n",
    "            \n",
    "               \n",
    "            \n",
    "train_generator = generator(train_samples, batch_size=32)\n",
    "validation_generator = generator(validation_samples, batch_size=32)\n",
    "\n",
    "model = Sequential()\n",
    "model.add(Lambda(lambda x: (x / 255.0) - 0.5, input_shape=(160,320,3)))\n",
    "# Crop the top 50% as it is mostly sky, and the bottom 20% as it is hood of the car \n",
    "model.add(Cropping2D(cropping=((50,20),(0,0))))\n",
    "\n",
    "'''Google LeNet\n",
    "model.add(Convolution2D(6,5,5,activation=\"relu\"))\n",
    "model.add(MaxPooling2D())\n",
    "model.add(Convolution2D(6,5,5,activation=\"relu\"))\n",
    "model.add(MaxPooling2D())\n",
    "model.add(Flatten())\n",
    "model.add(Dense(120))\n",
    "model.add(Dense(84))\n",
    "model.add(Dense(1))\n",
    "'''\n",
    "\n",
    "# NVDIA\n",
    "reg = 1e-3\n",
    "model.add(Convolution2D(24,5,5,subsample=(2,2),activation=\"relu\"))\n",
    "model.add(Convolution2D(36,5,5,subsample=(2,2),activation=\"relu\"))\n",
    "model.add(Convolution2D(48,5,5,subsample=(2,2),activation=\"relu\"))\n",
    "model.add(Convolution2D(64,3,3,activation=\"relu\"))\n",
    "model.add(Convolution2D(64,3,3,activation=\"relu\"))\n",
    "model.add(Flatten())\n",
    "model.add(Dropout(0.5))\n",
    "model.add(Dense(100,activation=\"relu\",W_regularizer=l2(reg)))\n",
    "model.add(Dense(50,activation=\"relu\",W_regularizer=l2(reg)))\n",
    "model.add(Dense(10,activation=\"relu\",W_regularizer=l2(reg)))\n",
    "model.add(Dense(1))\n",
    "\n",
    "model.compile(loss=\"mse\", optimizer=\"adam\")\n",
    "history_object = model.fit_generator(train_generator, samples_per_epoch= len(train_samples)*2, validation_data=validation_generator, nb_val_samples=len(validation_samples)*2, nb_epoch=5, verbose =1)\n",
    "model.save('model.h5')\n",
    "\n",
    "\n",
    "### print the keys contained in the history object\n",
    "print(history_object.history.keys())\n",
    "print('Loss')\n",
    "print(history_object.history['loss'])\n",
    "print('Validation Loss')\n",
    "print(history_object.history['val_loss'])\n",
    "\n",
    "### plot the training and validation loss for each epoch\n",
    "plt.plot(history_object.history['loss'])\n",
    "plt.plot(history_object.history['val_loss'])\n",
    "plt.title('model mean squared error loss')\n",
    "plt.ylabel('mean squared error loss')\n",
    "plt.xlabel('epoch')\n",
    "plt.legend(['training set', 'validation set'], loc='upper right')\n",
    "plt.show()\n"
   ]
  },
  {
   "cell_type": "markdown",
   "metadata": {},
   "source": [
    "# "
   ]
  }
 ],
 "metadata": {
  "kernelspec": {
   "display_name": "Python 3",
   "language": "python",
   "name": "python3"
  },
  "language_info": {
   "codemirror_mode": {
    "name": "ipython",
    "version": 3
   },
   "file_extension": ".py",
   "mimetype": "text/x-python",
   "name": "python",
   "nbconvert_exporter": "python",
   "pygments_lexer": "ipython3",
   "version": "3.5.2"
  },
  "widgets": {
   "state": {},
   "version": "1.1.2"
  }
 },
 "nbformat": 4,
 "nbformat_minor": 2
}
