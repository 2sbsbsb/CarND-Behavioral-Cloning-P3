{
 "cells": [
  {
   "cell_type": "code",
   "execution_count": 1,
   "metadata": {},
   "outputs": [
    {
     "name": "stderr",
     "output_type": "stream",
     "text": [
      "Using TensorFlow backend.\n"
     ]
    }
   ],
   "source": [
    "##\n",
    "## Udacity PRORJECT - Behaviour Cloning \n",
    "##\n",
    "\n",
    "import csv \n",
    "import cv2\n",
    "import numpy as np\n",
    "from keras.layers import Dense, Dropout, Activation, Flatten, Convolution2D, Input, Lambda, SpatialDropout2D,MaxPooling2D\n",
    "from keras.layers import Cropping2D\n",
    "import sklearn\n",
    "from sklearn.utils import shuffle\n",
    "import matplotlib.pyplot as plt\n",
    "\n"
   ]
  },
  {
   "cell_type": "code",
   "execution_count": 2,
   "metadata": {},
   "outputs": [
    {
     "name": "stdout",
     "output_type": "stream",
     "text": [
      "Img_path and measurements : (6198,) (6198,)\n"
     ]
    }
   ],
   "source": [
    "##\n",
    "##  Read the data from driving_log generated using the simulator in training mode\n",
    "## \n",
    "lines = []\n",
    "with open(\"data/driving_log.csv\") as csvfile:\n",
    "    reader = csv.reader(csvfile)\n",
    "    for line in reader:\n",
    "        lines.append(line)\n",
    "\n",
    "#\n",
    "#  Reading the images center,left,right images with no steering angle correction\n",
    "#  Commenting this out as loading too many images in memory not efficient instead going to use generator \n",
    "#\n",
    "'''\n",
    "images = []\n",
    "measurements =[]\n",
    "for line in lines:\n",
    "    for i in range(3):\n",
    "        source_path = line[i]\n",
    "        # The m/c is same as the m/c where data is generated so no need to make any correction in the path\n",
    "        current_path = source_path\n",
    "        image = cv2.imread(current_path)\n",
    "        images.append(image)\n",
    "        measurement = float(line[3])\n",
    "        measurements.append(measurement);\n",
    "'''        \n",
    "        \n",
    "#\n",
    "#  Reading the img_paths (center,left,right img path and taking sterring angle correction for left, right into account)\n",
    "#\n",
    "img_paths = []\n",
    "measurements =[]\n",
    "for line in lines:\n",
    "    ## Read Center,left,right images (More the data better the training)\n",
    "    steering_center = float(line[3])\n",
    "\n",
    "    # create adjusted steering measurements for the side camera images\n",
    "    correction = 0.20 # Tuned it after multiple iteration {Ideally it can be calculated mathematically}\n",
    "    steering_left = steering_center + correction\n",
    "    steering_right = steering_center - correction\n",
    "\n",
    "    # read in images from center, left and right cameras\n",
    "    # directory = \"...\" # fill in the path to your training IMG directory\n",
    "    img_center = line[0]\n",
    "    img_left = line[1]\n",
    "    img_right = line[2]\n",
    "\n",
    "    # add images \n",
    "    img_paths.append(img_center)\n",
    "    img_paths.append(img_left)\n",
    "    img_paths.append(img_right)\n",
    "    \n",
    "    # add measuremnts \n",
    "    measurements.append(steering_center)\n",
    "    measurements.append(steering_left)\n",
    "    measurements.append(steering_right)\n",
    "    \n",
    "img_paths = np.array(img_paths)\n",
    "measurements = np.array(measurements)\n",
    "\n",
    "print('Img_path and measurements :', img_paths.shape, measurements.shape)"
   ]
  },
  {
   "cell_type": "code",
   "execution_count": 3,
   "metadata": {},
   "outputs": [
    {
     "data": {
      "image/png": "[encoded data removed]",
      "text/plain": [
       "<matplotlib.figure.Figure at 0x118c72358>"
      ]
     },
     "metadata": {},
     "output_type": "display_data"
    },
    {
     "name": "stdout",
     "output_type": "stream",
     "text": [
      "Bias towards straight path\n"
     ]
    }
   ],
   "source": [
    "# Plot distribution of samples steering initial angles after prefiltering central angle samples\n",
    "plt.hist(measurements)\n",
    "plt.title(\"Steering angles Histogram\")\n",
    "plt.xlabel(\"Value\")\n",
    "plt.ylabel(\"Frequency\")\n",
    "plt.gcf()\n",
    "plt.show()\n",
    "\n",
    "print ('Bias towards straight path')"
   ]
  },
  {
   "cell_type": "code",
   "execution_count": 4,
   "metadata": {},
   "outputs": [
    {
     "name": "stdout",
     "output_type": "stream",
     "text": [
      "How much data to remove ? - 2571\n"
     ]
    }
   ],
   "source": [
    "# Calculate the index to filter the data \n",
    "# It will eliminate bias towards 0 stearing.\n",
    "\n",
    "threshold = 0.01  ## Stearing threshold\n",
    "keepPercent = 0.40 ## Keep 40% data\n",
    "remove_index = []\n",
    "\n",
    "for i in range(len(measurements)):\n",
    "    stearing = measurements[i]\n",
    "    if(abs(stearing) > 0.85):\n",
    "        remove_index.append(i)    \n",
    "    if(abs(stearing < threshold)):        \n",
    "        if np.random.random_sample() >keepPercent:\n",
    "            remove_index.append(i)\n",
    "            \n",
    "           \n",
    "\n",
    "print(\"How much data to remove ? -\", len(remove_index))"
   ]
  },
  {
   "cell_type": "code",
   "execution_count": 5,
   "metadata": {},
   "outputs": [
    {
     "name": "stdout",
     "output_type": "stream",
     "text": [
      "Img_path and measurements : (3640,) (3640,)\n"
     ]
    },
    {
     "data": {
      "image/png": "[encoded data removed]",
      "text/plain": [
       "<matplotlib.figure.Figure at 0x11b3df518>"
      ]
     },
     "metadata": {},
     "output_type": "display_data"
    },
    {
     "name": "stdout",
     "output_type": "stream",
     "text": [
      "Filtered data\n"
     ]
    }
   ],
   "source": [
    "## Filter data \n",
    "\n",
    "img_paths = np.delete(img_paths, remove_index, axis=0)\n",
    "measurements = np.delete(measurements, remove_index)\n",
    "\n",
    "\n",
    "print('Img_path and measurements :', img_paths.shape, measurements.shape)\n",
    "\n",
    "plt.hist(measurements)\n",
    "plt.title(\"Steering angles Histogram\")\n",
    "plt.xlabel(\"Value\")\n",
    "plt.ylabel(\"Frequency\")\n",
    "plt.gcf()\n",
    "plt.show() \n",
    "\n",
    "print('Filtered data')"
   ]
  },
  {
   "cell_type": "code",
   "execution_count": 6,
   "metadata": {},
   "outputs": [
    {
     "name": "stdout",
     "output_type": "stream",
     "text": [
      "Number of train samples     :  2912\n",
      "Number of validation samples:  728\n"
     ]
    }
   ],
   "source": [
    "##\n",
    "##\n",
    "from sklearn.model_selection import train_test_split\n",
    "samples = list(zip(img_paths, measurements))\n",
    "train_samples, validation_samples = train_test_split(samples, test_size=0.2)\n",
    "\n",
    "print('Number of train samples     : ', len(train_samples))\n",
    "print('Number of validation samples: ', len(validation_samples))\n",
    " \n"
   ]
  },
  {
   "cell_type": "code",
   "execution_count": 7,
   "metadata": {},
   "outputs": [
    {
     "name": "stdout",
     "output_type": "stream",
     "text": [
      "Epoch 1/5\n",
      "5824/5824 [==============================] - 175s - loss: 0.0484 - val_loss: 0.0385\n",
      "Epoch 2/5\n",
      "5824/5824 [==============================] - 172s - loss: 0.0372 - val_loss: 0.0326\n",
      "Epoch 3/5\n",
      "5824/5824 [==============================] - 172s - loss: 0.0320 - val_loss: 0.0271\n",
      "Epoch 4/5\n",
      "5824/5824 [==============================] - 170s - loss: 0.0276 - val_loss: 0.0272\n",
      "Epoch 5/5\n",
      "5824/5824 [==============================] - 172s - loss: 0.0245 - val_loss: 0.0249\n",
      "dict_keys(['loss', 'val_loss'])\n",
      "Loss\n",
      "[0.048366353734508975, 0.037151768527270021, 0.032000591957962121, 0.027616745843500882, 0.02452949188895278]\n",
      "Validation Loss\n",
      "[0.038480061833020093, 0.032629594657119815, 0.027098742487666371, 0.027182354622489805, 0.024936887998502334]\n"
     ]
    },
    {
     "data": {
      "image/png": "[encoded data removed]",
      "text/plain": [
       "<matplotlib.figure.Figure at 0x11bfa6be0>"
      ]
     },
     "metadata": {},
     "output_type": "display_data"
    }
   ],
   "source": [
    "\n",
    "\n",
    "## Regression Network\n",
    "from keras.models import Sequential\n",
    "from keras.layers import Flatten, Dense\n",
    "\n",
    "\n",
    "def generator(samples, batch_size=32):\n",
    "    num_samples = len(samples)\n",
    "    while 1: # Loop forever so the generator never terminates\n",
    "        shuffle(samples)\n",
    "        for offset in range(0, num_samples, batch_size):\n",
    "            batch_samples = samples[offset:offset+batch_size]\n",
    "\n",
    "            images = []\n",
    "            angles = []\n",
    "            for path,measurement in batch_samples:\n",
    "\n",
    "                #print(path)\n",
    "                #print(measurement)\n",
    "                \n",
    "                image = cv2.imread(path)\n",
    "                angle = float(measurement)\n",
    "                \n",
    "                images.append(image)\n",
    "                angles.append(angle)\n",
    "                \n",
    "                # Augumented Image\n",
    "                images.append(cv2.flip(image,1))\n",
    "                angles.append(angle*-1.0)\n",
    "\n",
    "\n",
    "            # trim image to only see section with road\n",
    "            X_train = np.array(images)\n",
    "            y_train = np.array(angles)\n",
    "            yield sklearn.utils.shuffle(X_train, y_train)\n",
    "            \n",
    "               \n",
    "            \n",
    "train_generator = generator(train_samples, batch_size=32)\n",
    "validation_generator = generator(validation_samples, batch_size=32)\n",
    "\n",
    "\n",
    "model = Sequential()\n",
    "#model.add(Flatten(input_shape=(160,320,3)))\n",
    "model.add(Lambda(lambda x: (x / 255.0) - 0.5, input_shape=(160,320,3)))\n",
    "#model.add(Lambda(lambda x: (x / 255.0) - 0.5, input_shape=(x_train.shape[1],x_train.shape[2],x_train.shape[3])))\n",
    "# Crop the top 50% as it is mostly sky, and the bottom 20% as it is hood of the car \n",
    "model.add(Cropping2D(cropping=((50,20),(0,0))))\n",
    "#model.add(Lambda(lambda x: (x / 255.0) - 0.5, input_shape=(160,320,3)))\n",
    "\n",
    "#model.add(Flatten(input_shape=(x_train.shape[1],x_train.shape[2],x_train.shape[3])))\n",
    "#model.add(Flatten())\n",
    "#model.add(Dense(1))\n",
    "\n",
    "\n",
    "#train_generator = generator(train_samples, batch_size=32)\n",
    "#validation_generator = generator(validation_samples, batch_size=32)\n",
    "\n",
    "#model = Sequential()\n",
    "#model.add(Lambda(lambda x:x/255.0 - 0.5,input_shape=(160,320,3)))\n",
    "#model.add(Cropping2D(cropping=((50,20),(0,0))))\n",
    "\n",
    "'''Google LeNet\n",
    "model.add(Convolution2D(6,5,5,activation=\"relu\"))\n",
    "model.add(MaxPooling2D())\n",
    "model.add(Convolution2D(6,5,5,activation=\"relu\"))\n",
    "model.add(MaxPooling2D())\n",
    "model.add(Flatten())\n",
    "model.add(Dense(120))\n",
    "model.add(Dense(84))\n",
    "model.add(Dense(1))\n",
    "'''\n",
    "\n",
    "# NVDIA\n",
    "model.add(Convolution2D(24,5,5,subsample=(2,2),activation=\"relu\"))\n",
    "model.add(Convolution2D(36,5,5,subsample=(2,2),activation=\"relu\"))\n",
    "model.add(Convolution2D(48,5,5,subsample=(2,2),activation=\"relu\"))\n",
    "model.add(Convolution2D(64,3,3,activation=\"relu\"))\n",
    "model.add(Convolution2D(64,3,3,activation=\"relu\"))\n",
    "model.add(Flatten())\n",
    "model.add(Dense(100))\n",
    "model.add(Dense(50))\n",
    "model.add(Dense(10))\n",
    "model.add(Dense(1))\n",
    "\n",
    "model.compile(loss=\"mse\", optimizer=\"adam\")\n",
    "##model.fit(x_train, y_train, validation_split=0.2, shuffle=True, nb_epoch=2)\n",
    "##model.save(\"model.h5\")\n",
    "\n",
    "history_object = model.fit_generator(train_generator, samples_per_epoch= len(train_samples)*2, validation_data=validation_generator, nb_val_samples=len(validation_samples)*2, nb_epoch=5, verbose =1)\n",
    "model.save('model.h5')\n",
    "\n",
    "### Visualization -Outputting Training and Validation Loss Metrics\n",
    "#history_object = model.fit_generator(train_generator, samples_per_epoch= len(train_samples), validation_data=validation_generator, nb_val_samples=len(validation_samples), nb_epoch=2, verbose =1)\n",
    "#history_object = model.fit_generator(train_generator, samples_per_epoch= len(train_samples)*2, validation_data=validation_generator, nb_val_samples=len(validation_samples)*2, nb_epoch=3, verbose =1)\n",
    "\n",
    "\n",
    "### print the keys contained in the history object\n",
    "print(history_object.history.keys())\n",
    "print('Loss')\n",
    "print(history_object.history['loss'])\n",
    "print('Validation Loss')\n",
    "print(history_object.history['val_loss'])\n",
    "\n",
    "### plot the training and validation loss for each epoch\n",
    "plt.plot(history_object.history['loss'])\n",
    "plt.plot(history_object.history['val_loss'])\n",
    "plt.title('model mean squared error loss')\n",
    "plt.ylabel('mean squared error loss')\n",
    "plt.xlabel('epoch')\n",
    "plt.legend(['training set', 'validation set'], loc='upper right')\n",
    "plt.show()"
   ]
  },
  {
   "cell_type": "markdown",
   "metadata": {},
   "source": [
    "# "
   ]
  }
 ],
 "metadata": {
  "kernelspec": {
   "display_name": "Python 3",
   "language": "python",
   "name": "python3"
  },
  "language_info": {
   "codemirror_mode": {
    "name": "ipython",
    "version": 3
   },
   "file_extension": ".py",
   "mimetype": "text/x-python",
   "name": "python",
   "nbconvert_exporter": "python",
   "pygments_lexer": "ipython3",
   "version": "3.5.2"
  },
  "widgets": {
   "state": {},
   "version": "1.1.2"
  }
 },
 "nbformat": 4,
 "nbformat_minor": 2
}
